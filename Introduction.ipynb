{
 "cells": [
  {
   "cell_type": "markdown",
   "metadata": {},
   "source": [
    "# Accident Severity in Seattle from 2004 to 2020\n",
    "## Problem background and description\n",
    "Growth rate of population in Seattle ranks No.2 in US. As a fast growing city, the traffic congestion problems have become a terrible problem. Accourding to the 2019 Urban Mobility Report, Seattle rank 7th on the problem of time delay for auto commuters traveling during peak periods (6 a.m. to 10 a.m. and 3 p.m. to 7 p.m.). Increasing number of traffic accidents is one of the most contribution to traffic jams. If prediction of severity of traffic accidents can be made, traffic congestion problem can be relieved. \n",
    "\n",
    "With the development of machine learning, we want to use the data of traffic attributes including road condition, weather and other factors to predict accident severity  \n",
    "\n",
    "## Target Audience\n",
    "Our prediction of accident severity will be provided to the driver sufferred from traffic jams caused by traffic accidents and help them to decide whether they should change the routine or wait for the traffic jams. If the accident is serious and caused a large damage, we will recommend them to change their routine. Otherwise, they can still wait for traffic jams. Our prediction will help drivers to save their time and relieve traffic congestion.\n"
   ]
  },
  {
   "cell_type": "code",
   "execution_count": null,
   "metadata": {},
   "outputs": [],
   "source": []
  }
 ],
 "metadata": {
  "kernelspec": {
   "display_name": "Python 3",
   "language": "python",
   "name": "python3"
  },
  "language_info": {
   "codemirror_mode": {
    "name": "ipython",
    "version": 3
   },
   "file_extension": ".py",
   "mimetype": "text/x-python",
   "name": "python",
   "nbconvert_exporter": "python",
   "pygments_lexer": "ipython3",
   "version": "3.6.4"
  }
 },
 "nbformat": 4,
 "nbformat_minor": 2
}
